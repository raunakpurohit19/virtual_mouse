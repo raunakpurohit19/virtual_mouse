{
 "cells": [
  {
   "cell_type": "code",
   "execution_count": 2,
   "metadata": {},
   "outputs": [
    {
     "name": "stdout",
     "output_type": "stream",
     "text": [
      "WARNING:tensorflow:From C:\\Users\\rauna\\anaconda3\\lib\\site-packages\\keras\\src\\losses.py:2976: The name tf.losses.sparse_softmax_cross_entropy is deprecated. Please use tf.compat.v1.losses.sparse_softmax_cross_entropy instead.\n",
      "\n"
     ]
    }
   ],
   "source": [
    "import cv2\n",
    "import mediapipe\n",
    "import pyautogui"
   ]
  },
  {
   "cell_type": "code",
   "execution_count": 21,
   "metadata": {},
   "outputs": [],
   "source": [
    "capture_hands = mediapipe.solutions.hands.Hands()\n",
    "drawing_option = mediapipe.solutions.drawing_utils\n",
    "screen_width, screen_height = pyautogui.size()\n",
    "x1 = x2 = y1 = y2 = 0"
   ]
  },
  {
   "cell_type": "code",
   "execution_count": 23,
   "metadata": {},
   "outputs": [
    {
     "name": "stderr",
     "output_type": "stream",
     "text": [
      "C:\\Users\\rauna\\anaconda3\\lib\\site-packages\\google\\protobuf\\symbol_database.py:55: UserWarning: SymbolDatabase.GetPrototype() is deprecated. Please use message_factory.GetMessageClass() instead. SymbolDatabase.GetPrototype() will be removed soon.\n",
      "  warnings.warn('SymbolDatabase.GetPrototype() is deprecated. Please '\n"
     ]
    }
   ],
   "source": [
    "camera = cv2.VideoCapture(0)\n",
    "while True:\n",
    "    _,image = camera.read()\n",
    "    image_height, image_width, _ = image.shape\n",
    "    image = cv2.flip(image,1)\n",
    "    rgb_image = cv2.cvtColor(image,cv2.COLOR_BGR2RGB)\n",
    "    output_hands = capture_hands.process(rgb_image)\n",
    "    all_hands = output_hands.multi_hand_landmarks\n",
    "    if all_hands:\n",
    "        for hand in all_hands:\n",
    "            drawing_option.draw_landmarks(image, hand)\n",
    "            one_hand_landmarks = hand.landmark\n",
    "            for id, lm in enumerate(one_hand_landmarks):\n",
    "                x = int(lm.x * image_width)\n",
    "                y = int(lm.y * image_height)\n",
    "                #print(x, y)\n",
    "                if id == 8:\n",
    "                    mouse_x = int(screen_width/image_width * x)\n",
    "                    mouse_y = int(screen_height/image_height * y)\n",
    "                    cv2.circle(image,(x,y),16,(0,255,255))\n",
    "                    pyautogui.moveTo(mouse_x,mouse_y)\n",
    "                    x1 = x\n",
    "                    y1 = y\n",
    "                if id == 4:\n",
    "                    x2 = x\n",
    "                    y2 = y\n",
    "                    cv2.circle(image,(x,y),16,(0,255,255))\n",
    "        dist = y2 - y1\n",
    "        #print(dist)\n",
    "        if(dist<30):\n",
    "            pyautogui.click()\n",
    "\n",
    "    cv2.imshow(\"Hand movement video capture\", image)\n",
    "    key = cv2.waitKey(100)\n",
    "    if key == 27:\n",
    "        break\n",
    "camera.release()\n",
    "cv2.destroyAllWindows()"
   ]
  },
  {
   "cell_type": "markdown",
   "metadata": {},
   "source": []
  },
  {
   "cell_type": "code",
   "execution_count": null,
   "metadata": {},
   "outputs": [],
   "source": []
  }
 ],
 "metadata": {
  "kernelspec": {
   "display_name": "Python 3 (ipykernel)",
   "language": "python",
   "name": "python3"
  },
  "language_info": {
   "codemirror_mode": {
    "name": "ipython",
    "version": 3
   },
   "file_extension": ".py",
   "mimetype": "text/x-python",
   "name": "python",
   "nbconvert_exporter": "python",
   "pygments_lexer": "ipython3",
   "version": "3.10.9"
  }
 },
 "nbformat": 4,
 "nbformat_minor": 2
}
